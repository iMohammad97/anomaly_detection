{
 "cells": [
  {
   "cell_type": "code",
   "execution_count": null,
   "metadata": {
    "colab": {
     "base_uri": "https://localhost:8080/"
    },
    "id": "ZdZ6WaqD5cXy",
    "outputId": "841c1920-ec00-4b45-b3cb-04eee8cee307"
   },
   "source": [
    "! git clone https://github.com/iMohammad97/anomaly_detection\n"
   ],
   "outputs": []
  },
  {
   "cell_type": "markdown",
   "source": [
    "در صورتی که تغییری در کد ایجاد کردید میتوانید با این دستور بگیرید و صرفا بعد از آن ریستارت سشن کنید و لازم نیست کلا دیسکانکت کنید"
   ],
   "metadata": {
    "id": "gaL72En_Ghoh"
   }
  },
  {
   "cell_type": "code",
   "execution_count": null,
   "metadata": {
    "colab": {
     "base_uri": "https://localhost:8080/"
    },
    "id": "IiQ9WesYv4uN",
    "outputId": "40539281-603c-44ca-fe21-f1e95e2120ac"
   },
   "source": [
    "!cd anomaly_detection  && git pull"
   ],
   "outputs": []
  },
  {
   "cell_type": "code",
   "execution_count": null,
   "metadata": {
    "id": "6m-mU12pXxiC"
   },
   "source": [
    "import sys\n",
    "sys.path.append(\"anomaly_detection\")\n",
    "import numpy as np\n",
    "from anomaly_models.AE_Classes.AE_Class import LSTMAutoencoder\n",
    "from anomaly_models.AE import create_windows\n",
    "X_train = np.load(\"/content/anomaly_detection/UCR/UCR2_preprocessed/212_train.npy\")\n",
    "X_test  = np.load(\"/content/anomaly_detection/UCR/UCR2_preprocessed/212_test.npy\")\n",
    "Y_test  = np.load(\"/content/anomaly_detection/UCR/UCR2_preprocessed/212_labels.npy\")\n",
    "object = LSTMAutoencoder(X_train,  X_test,Y_test,step_size = 32)\n"
   ],
   "outputs": []
  },
  {
   "cell_type": "code",
   "execution_count": null,
   "metadata": {
    "colab": {
     "base_uri": "https://localhost:8080/",
     "height": 577
    },
    "id": "Ldrgs176dMIr",
    "outputId": "301dbcc6-bdb0-4b9d-f6db-fd101b333577"
   },
   "source": [
    "object.train(epochs=1)\n",
    "object.evaluate()\n",
    "object.plot_results()"
   ],
   "outputs": []
  },
  {
   "cell_type": "code",
   "execution_count": null,
   "metadata": {
    "colab": {
     "base_uri": "https://localhost:8080/",
     "height": 159
    },
    "id": "Y9uSVWJ1-j93",
    "outputId": "4143dbe8-5e91-44de-9803-aec8b7e066e6"
   },
   "source": [
    "label_indices = [i for i in range(len(labels)) if labels[i] == 1]\n",
    "label_indices"
   ],
   "outputs": []
  }
 ],
 "metadata": {
  "accelerator": "GPU",
  "colab": {
   "gpuType": "T4",
   "provenance": []
  },
  "kernelspec": {
   "display_name": "Python 3",
   "name": "python3"
  },
  "language_info": {
   "name": "python"
  }
 },
 "nbformat": 4,
 "nbformat_minor": 0
}
