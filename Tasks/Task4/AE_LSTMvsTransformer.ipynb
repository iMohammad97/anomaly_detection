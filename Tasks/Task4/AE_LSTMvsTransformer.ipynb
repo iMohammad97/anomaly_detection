{
 "metadata": {
  "kernelspec": {
   "name": "python3",
   "display_name": "Python 3",
   "language": "python"
  },
  "language_info": {
   "name": "python",
   "version": "3.10.12",
   "mimetype": "text/x-python",
   "codemirror_mode": {
    "name": "ipython",
    "version": 3
   },
   "pygments_lexer": "ipython3",
   "nbconvert_exporter": "python",
   "file_extension": ".py"
  },
  "colab": {
   "provenance": [],
   "gpuType": "T4",
   "authorship_tag": "ABX9TyNvxU3vf4X/mw0SuqoiSqjy"
  },
  "accelerator": "GPU",
  "kaggle": {
   "accelerator": "gpu",
   "dataSources": [],
   "isInternetEnabled": true,
   "language": "python",
   "sourceType": "notebook",
   "isGpuEnabled": true
  }
 },
 "nbformat_minor": 4,
 "nbformat": 4,
 "cells": [
  {
   "cell_type": "markdown",
   "source": "## Packages",
   "metadata": {
    "id": "fB3U8aNVoWTs"
   }
  },
  {
   "cell_type": "code",
   "source": [
    "# !pip install numpy tensorflow scikit-learn plotly pandas\n",
    "\n",
    "# For the UCR dataset we clone the git repo (if in Colab/Kaggle env)\n",
    "!git clone https://github.com/iMohammad97/anomaly_detection\n",
    "\n",
    "!pip install kaleido"
   ],
   "metadata": {
    "id": "jgIUvRdGoWI2",
    "trusted": true,
    "execution": {
     "iopub.status.busy": "2025-02-12T13:23:15.830982Z",
     "iopub.execute_input": "2025-02-12T13:23:15.831286Z",
     "iopub.status.idle": "2025-02-12T13:23:34.646581Z",
     "shell.execute_reply.started": "2025-02-12T13:23:15.831264Z",
     "shell.execute_reply": "2025-02-12T13:23:34.645691Z"
    }
   },
   "outputs": [
    {
     "name": "stdout",
     "text": "Cloning into 'anomaly_detection'...\nremote: Enumerating objects: 3828, done.\u001B[K\nremote: Counting objects: 100% (30/30), done.\u001B[K\nremote: Compressing objects: 100% (26/26), done.\u001B[K\nremote: Total 3828 (delta 16), reused 8 (delta 4), pack-reused 3798 (from 1)\u001B[K\nReceiving objects: 100% (3828/3828), 202.52 MiB | 33.48 MiB/s, done.\nResolving deltas: 100% (1623/1623), done.\nUpdating files: 100% (2721/2721), done.\nCollecting kaleido\n  Downloading kaleido-0.2.1-py2.py3-none-manylinux1_x86_64.whl.metadata (15 kB)\nDownloading kaleido-0.2.1-py2.py3-none-manylinux1_x86_64.whl (79.9 MB)\n\u001B[2K   \u001B[90m━━━━━━━━━━━━━━━━━━━━━━━━━━━━━━━━━━━━━━━━\u001B[0m \u001B[32m79.9/79.9 MB\u001B[0m \u001B[31m21.3 MB/s\u001B[0m eta \u001B[36m0:00:00\u001B[0m:00:01\u001B[0m00:01\u001B[0m\n\u001B[?25hInstalling collected packages: kaleido\nSuccessfully installed kaleido-0.2.1\n",
     "output_type": "stream"
    }
   ],
   "execution_count": 1
  },
  {
   "cell_type": "code",
   "source": "import numpy as np\nimport tensorflow as tf\nfrom tensorflow.keras import layers, models, callbacks\nfrom tensorflow.keras.utils import custom_object_scope\nimport pandas as pd\nimport matplotlib.pyplot as plt\nimport plotly.graph_objects as go\nimport plotly.express as px\nfrom sklearn.metrics import auc, precision_recall_curve, roc_auc_score, precision_score\nimport glob, os, sys\nimport kaleido\nimport torch\nimport torch.nn as nn\nfrom torch.utils.data import Dataset, DataLoader\nfrom tqdm.notebook import tqdm, trange\nimport shutil\nimport math",
   "metadata": {
    "id": "QlyJs93voTeo",
    "executionInfo": {
     "status": "ok",
     "timestamp": 1739036175812,
     "user_tz": -210,
     "elapsed": 10718,
     "user": {
      "displayName": "Mohammad Mohammadi",
      "userId": "06409477078097051085"
     }
    },
    "trusted": true,
    "execution": {
     "iopub.status.busy": "2025-02-12T13:23:34.647871Z",
     "iopub.execute_input": "2025-02-12T13:23:34.648202Z",
     "iopub.status.idle": "2025-02-12T13:23:53.607582Z",
     "shell.execute_reply.started": "2025-02-12T13:23:34.648154Z",
     "shell.execute_reply": "2025-02-12T13:23:53.606669Z"
    }
   },
   "outputs": [],
   "execution_count": 2
  }
 ]
}
